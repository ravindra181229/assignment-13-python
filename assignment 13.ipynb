{
 "cells": [
  {
   "cell_type": "code",
   "execution_count": 1,
   "id": "21af65d3",
   "metadata": {},
   "outputs": [
    {
     "data": {
      "text/plain": [
       "'Excel does manipulate data and stores as it is\\nExcel allows the user the add-in feature \\nCSV does not manipulate data and stores as it is'"
      ]
     },
     "execution_count": 1,
     "metadata": {},
     "output_type": "execute_result"
    }
   ],
   "source": [
    "#Q1\n",
    "'''Excel does manipulate data and stores as it is\n",
    "Excel allows the user the add-in feature \n",
    "CSV does not manipulate data and stores as it is'''"
   ]
  },
  {
   "cell_type": "code",
   "execution_count": 16,
   "id": "4ab78a90",
   "metadata": {},
   "outputs": [
    {
     "data": {
      "text/plain": [
       "\"with open('file name', 'r') to pass objects to csv.reader()\\nwith open('file name', 'w') to pass objects to csv.writer()\""
      ]
     },
     "execution_count": 16,
     "metadata": {},
     "output_type": "execute_result"
    }
   ],
   "source": [
    "#Q2\n",
    "\"\"\"with open('file name', 'r') to pass objects to csv.reader()\n",
    "with open('file name', 'w') to pass objects to csv.writer()\"\"\""
   ]
  },
  {
   "cell_type": "code",
   "execution_count": 7,
   "id": "de2d31d6",
   "metadata": {},
   "outputs": [
    {
     "data": {
      "text/plain": [
       "'the open() function '"
      ]
     },
     "execution_count": 7,
     "metadata": {},
     "output_type": "execute_result"
    }
   ],
   "source": [
    "#Q3\n",
    "'''the open() function '''"
   ]
  },
  {
   "cell_type": "code",
   "execution_count": 8,
   "id": "a3db33a5",
   "metadata": {},
   "outputs": [
    {
     "data": {
      "text/plain": [
       "'The csv.writer writerow()'"
      ]
     },
     "execution_count": 8,
     "metadata": {},
     "output_type": "execute_result"
    }
   ],
   "source": [
    "#Q4\n",
    "'''The csv.writer writerow()'''"
   ]
  },
  {
   "cell_type": "code",
   "execution_count": 15,
   "id": "7c971763",
   "metadata": {},
   "outputs": [
    {
     "data": {
      "text/plain": [
       "'delimeter: we can change the characters to different values by using delimeter\\nterminator: the terminator is the character that comes at the end of the row'"
      ]
     },
     "execution_count": 15,
     "metadata": {},
     "output_type": "execute_result"
    }
   ],
   "source": [
    "#Q5\n",
    "'''delimeter: we can change the characters to different values by using delimeter\n",
    "terminator: the terminator is the character that comes at the end of the row'''"
   ]
  },
  {
   "cell_type": "code",
   "execution_count": 13,
   "id": "5049efea",
   "metadata": {},
   "outputs": [
    {
     "data": {
      "text/plain": [
       "'loads()'"
      ]
     },
     "execution_count": 13,
     "metadata": {},
     "output_type": "execute_result"
    }
   ],
   "source": [
    "#Q6\n",
    "'''loads()'''"
   ]
  },
  {
   "cell_type": "code",
   "execution_count": 14,
   "id": "556bcbd3",
   "metadata": {},
   "outputs": [
    {
     "data": {
      "text/plain": [
       "'decode()'"
      ]
     },
     "execution_count": 14,
     "metadata": {},
     "output_type": "execute_result"
    }
   ],
   "source": [
    "#Q7\n",
    "'''decode()'''"
   ]
  },
  {
   "cell_type": "code",
   "execution_count": null,
   "id": "fdaba36f",
   "metadata": {},
   "outputs": [],
   "source": []
  },
  {
   "cell_type": "code",
   "execution_count": null,
   "id": "6d02a660",
   "metadata": {},
   "outputs": [],
   "source": []
  }
 ],
 "metadata": {
  "kernelspec": {
   "display_name": "Python 3",
   "language": "python",
   "name": "python3"
  },
  "language_info": {
   "codemirror_mode": {
    "name": "ipython",
    "version": 3
   },
   "file_extension": ".py",
   "mimetype": "text/x-python",
   "name": "python",
   "nbconvert_exporter": "python",
   "pygments_lexer": "ipython3",
   "version": "3.8.8"
  }
 },
 "nbformat": 4,
 "nbformat_minor": 5
}
